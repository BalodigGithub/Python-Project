{
 "cells": [
  {
   "cell_type": "code",
   "execution_count": null,
   "id": "1e625944",
   "metadata": {},
   "outputs": [],
   "source": [
    "Answer 1 :\n",
    "a )Modularity: Functions allow you to break down your code into smaller, manageable pieces. Each function can have a specific,\n",
    "well-defined purpose, making your code more modular and easier to understand .\n",
    "b )Reusability: Functions can be reused multiple times throughout your program and in different programs. Once you've defined \n",
    "function to perform a specific task, you can call it wheneveryou need that task to be performed again, without \n",
    "having to rewrite the same code. \n",
    "c )Abstraction: Functions allow you to abstract away complex operations or logic behind a simple interface. \n",
    "d )Testing and Debugging: Functions facilitate testing and debugging. You can test individual functions in isolation,making\n",
    "it easier to identify and fix issues. \n"
   ]
  },
  {
   "cell_type": "code",
   "execution_count": null,
   "id": "12897291",
   "metadata": {},
   "outputs": [],
   "source": [
    "Answer 2 :\n",
    "def my_function():\n",
    "    print(\"This code runs when the function is called.\")\n",
    "\n",
    "# The function is defined, but the code inside it hasn't run yet.\n",
    "\n",
    "# Calling the function to run the code inside it:\n",
    "my_function()"
   ]
  },
  {
   "cell_type": "code",
   "execution_count": null,
   "id": "4b2798d7",
   "metadata": {},
   "outputs": [],
   "source": [
    "Answer 3 :\n",
    "In Python, the def statement is used to create (define) a function. The def statement is followed by the function name, \n",
    "a set of parentheses containing any function parameters or arguments, and a colon. The code block that follows the colon is \n",
    "the functions body, where you define the specific actions the function should perform when called."
   ]
  },
  {
   "cell_type": "code",
   "execution_count": null,
   "id": "17ebb614",
   "metadata": {},
   "outputs": [],
   "source": [
    "Answer 4 :\n",
    "1 ) Function ) \n",
    "A function is a reusable block of code that performs a specific task or set of tasks . Functions are designed to be defined\n",
    "once and can be called (invoked) multiple times throughout your program.\n",
    "2) Function Call ) A function call, also known as invoking a function, is the action of actually executing a function to perform\n",
    "its defined task(s).It involves using the function's name followed by parentheses and providing any required arguments\n",
    "(parameters) within those parentheses."
   ]
  },
  {
   "cell_type": "code",
   "execution_count": null,
   "id": "6adc7258",
   "metadata": {},
   "outputs": [],
   "source": [
    "Answer 5 :\n",
    "    \n",
    "Global Scope:\n",
    "* There is only one global scope in a Python program.\n",
    "* The global scope encompasses the entire program and includes all variables and functions defined at the top level of the \n",
    "program, outside of any functions or classes.\n",
    "*Variables defined in the global scope are accessible from anywhere within the program, including within functions.\n",
    "\n",
    "Local Scopes:\n",
    "* Local scopes exist within functions or methods.\n",
    "* Each function or method defines its own local scope, and variables created within that function are local to it. These \n",
    "variables are typically not accessible outside of the function."
   ]
  },
  {
   "cell_type": "code",
   "execution_count": null,
   "id": "ea748a39",
   "metadata": {},
   "outputs": [],
   "source": [
    "Answer 6 :\n",
    "When a function call returns in Python, the local variables defined within that function's scope are destroyed, andtheir memory\n",
    "is released. This process is part of Python's automatic memory management and variable scoping mechanism.\n",
    "\n",
    "Variable Destruction: All local variables created within the function are destroyed. This means they are no longer accessible\n",
    "or usable once the function has finished executing. The memory used by these variables is freed up for other purposes.\n",
    "\n",
    "Scope Cleanup: The local scope associated with the function is cleaned up. Any references to the local variables within that \n",
    "scope are removed, and the scope is discarded."
   ]
  },
  {
   "cell_type": "code",
   "execution_count": null,
   "id": "45c68b44",
   "metadata": {},
   "outputs": [],
   "source": [
    "Answer 7 :\n",
    "A return value is a value that a function can send back to the point in your program where the function was called. It allows a \n",
    "function to produce a result or output that can be used by the calling code.\n",
    "\n",
    "Syntax: In most programming languages, including Python, you use the return statement to specify the value that the function\n",
    "should return. \n",
    "def add(x, y):\n",
    "    result = x + y\n",
    "    return result\n",
    "\n",
    "Usage: When a function with a return statement is called, the function evaluates the expression specified in the return\n",
    "statement and sends the result back to the caller.\n",
    "sum_result = add(3, 5)\n",
    "print(\"Sum:\", sum_result)  # This prints \"Sum: 8\"\n",
    "\n"
   ]
  },
  {
   "cell_type": "code",
   "execution_count": null,
   "id": "d6763deb",
   "metadata": {},
   "outputs": [],
   "source": [
    "Answer 8 :\n",
    "If a function in Python does not have a return statement, or if it has a return statement without an expression\n",
    "(i.e., just return by itself), the function will return a special value called None. None represents the absence of a value or\n",
    "a null value in Python.\n",
    "def greet(name):\n",
    "    print(f\"Hello, {name}!\")\n",
    "\n",
    "result = greet(\"Alice\")\n",
    "\n",
    "print(\"Result:\", result)  # This will print \"Result: None\"\n"
   ]
  },
  {
   "cell_type": "code",
   "execution_count": null,
   "id": "e145ed90",
   "metadata": {},
   "outputs": [],
   "source": [
    "Answer 9 :\n",
    "In Python, if you have a variable with the same name in both the local (function) and global scopes, you can explicitly indicate\n",
    "that you want to access or modify the global variable within the function using the global keyword. \n",
    "If you want to access the value of a global variable within a function without modifying it, you can use the global keyword to\n",
    "declare that you intend to access the global variable. This way, Python will look for the variable in the global scope .\n",
    "global_var = 42  # This is a global variable\n",
    "\n",
    "def access_global():\n",
    "    global global_var  # Declare 'global_var' as a global variable\n",
    "    print(\"Accessing global_var from within the function:\", global_var)\n",
    "\n",
    "access_global()\n"
   ]
  },
  {
   "cell_type": "code",
   "execution_count": null,
   "id": "238296da",
   "metadata": {},
   "outputs": [],
   "source": [
    "Answer 10 :\n",
    "In Python, None is a special object that represents the absence of a value or a null value. It is used to indicate that a\n",
    "variable or expression does not have a meaningful result or a specific value. The data type of None is called NoneType, and it\n",
    "is the only instance of this data type.\n",
    "x = None\n",
    "print(type(x))  # This will output: <class 'NoneType'>\n",
    "So, the data type of None is NoneType."
   ]
  }
 ],
 "metadata": {
  "kernelspec": {
   "display_name": "Python 3 (ipykernel)",
   "language": "python",
   "name": "python3"
  },
  "language_info": {
   "codemirror_mode": {
    "name": "ipython",
    "version": 3
   },
   "file_extension": ".py",
   "mimetype": "text/x-python",
   "name": "python",
   "nbconvert_exporter": "python",
   "pygments_lexer": "ipython3",
   "version": "3.10.9"
  }
 },
 "nbformat": 4,
 "nbformat_minor": 5
}
