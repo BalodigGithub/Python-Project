{
 "cells": [
  {
   "cell_type": "code",
   "execution_count": null,
   "id": "c32327c2",
   "metadata": {},
   "outputs": [],
   "source": [
    "Answer 1 :\n",
    "In many programming languages, including Python, [] represents an empty list. A list is a data structure that can hold a \n",
    "collection of elements, and [] denotes a list with no elements, i.e., it is empty.\n",
    "Heres an example in Python:\n",
    "empty_list = []"
   ]
  },
  {
   "cell_type": "code",
   "execution_count": null,
   "id": "334a3d47",
   "metadata": {},
   "outputs": [],
   "source": [
    "Answer 2 :\n",
    "We can assign the value \"hello\" as the third value in a list stored in a variable called spam by using indexing. In Python, list\n",
    "indices start at 0, so the third vaspam = [2, 4, 6, 8, 10]\n",
    "spam[2] = \"hello\"lue has an index of 2 (0-based indexing).\n",
    "Here's how you can do it:\n"
   ]
  },
  {
   "cell_type": "code",
   "execution_count": null,
   "id": "29bf84dd",
   "metadata": {},
   "outputs": [],
   "source": [
    "Answer 3 :\n",
    "Let's break down the expression step by step:\n",
    "\n",
    "'3' * 2 evaluates to the string '33'.\n",
    "int('33') converts the string '33' to an integer, which is 33.\n",
    "int('33') / 11 performs integer division, resulting in 33 / 11, which equals 3\n",
    "(since both operands are integers, the result is an integer).\n",
    "Finally, spam[3] accesses the fourth element (remember that Python uses 0-based indexing) of the list spam."
   ]
  },
  {
   "cell_type": "code",
   "execution_count": null,
   "id": "2ec557ba",
   "metadata": {},
   "outputs": [],
   "source": [
    "Answer 4 :\n",
    "In Python, negative indices are used to access elements from the end of a list. So, spam[-1] would give you the last element of\n",
    "the list spam.\n",
    "\n",
    "If spam is [2, 4, 6, 8, 10], then spam[-1] would be 10, which is the last element in the list."
   ]
  },
  {
   "cell_type": "code",
   "execution_count": null,
   "id": "3318e94c",
   "metadata": {},
   "outputs": [],
   "source": [
    "Answer 5 :\n",
    "spam[:2] is a list slicing operation in Python, and it returns a new list containing the elements from the beginning of the list\n",
    "spam up to, but not including, the element at index 2. In other words, it includes the elements at indices 0 and 1.\n",
    "\n",
    "If spam is [2, 4, 6, 8, 10], then spam[:2] would return [2, 4]."
   ]
  },
  {
   "cell_type": "code",
   "execution_count": null,
   "id": "f9b7e7c8",
   "metadata": {},
   "outputs": [],
   "source": [
    "Answer 9 :\n",
    "In Python, you can concatenate lists using the + operator and replicate (repeat) a list using the * operator.\n",
    "\n",
    "List Concatenation (+):\n",
    "The + operator is used to combine two or more lists into a single list.\n",
    "It creates a new list that contains all the elements from the lists being concatenated in the order they appear.\n",
    "list1 = [1, 2, 3]\n",
    "list2 = [4, 5, 6]\n",
    "result = list1 + list2\n",
    "\n",
    "List Replication (*):\n",
    "The * operator is used to create a new list by repeating the elements of an existing list a specified number of times.\n",
    "original_list = [1, 2, 3]\n",
    "replicated_list = original_list * 3"
   ]
  },
  {
   "cell_type": "code",
   "execution_count": null,
   "id": "39e05284",
   "metadata": {},
   "outputs": [],
   "source": [
    "Answer 10 :\n",
    "    \n",
    "1) append() Method:\n",
    "The append() method is used to add an element to the end of a list.\n",
    "It takes a single argument, which is the element you want to add, and appends it to the end of the list.\n",
    "my_list = [1, 2, 3]\n",
    "my_list.append(4)\n",
    "\n",
    "2)insert() Method:\n",
    "The insert() method is used to add an element at a specific index position within the list.\n",
    "It takes two arguments: the index at which you want to insert the element and the element itself.\n",
    "insert() Method:\n",
    "\n",
    "my_list = [1, 2, 3]\n",
    "my_list.insert(1, 4)"
   ]
  },
  {
   "cell_type": "code",
   "execution_count": null,
   "id": "d936834d",
   "metadata": {},
   "outputs": [],
   "source": [
    "Answer 11 :\n",
    "    1 )remove() Method:\n",
    "The remove() method is used to remove the first occurrence of a specific value from the list.\n",
    "It takes a single argument, which is the value you want to remove.\n",
    "my_list = [1, 2, 3, 4, 3]\n",
    "my_list.remove(3)\n",
    "\n",
    "   2 )pop() Method:\n",
    "The pop() method is used to remove an element from a specific index in the list and return its value.\n",
    "It takes an optional index as an argument. If no index is provided, it removes and returns the last element by default.\n",
    "my_list = [1, 2, 3, 4]\n",
    "removed_element = my_list.pop(2)"
   ]
  },
  {
   "cell_type": "code",
   "execution_count": null,
   "id": "cfc8e876",
   "metadata": {},
   "outputs": [],
   "source": [
    "Answer 12 :\n",
    "\n",
    "List values and string values share some similarities in Python:\n",
    "\n",
    "(1) Ordered Sequence:\n",
    "Both lists and strings are ordered sequences of elements. In a string, these elements are characters, while in a list, they can\n",
    "be of any data type, including other lists.\n",
    "\n",
    "(2) Indexing and Slicing:\n",
    "You can access individual elements of both strings and lists using indexing and slicing.\n",
    "For example, you can access the first character of a string using string_variable[0] and the first element of a list using \n",
    "list_variable[0].\n",
    "\n",
    "(3) Iterability:\n",
    "Both lists and strings can be iterated over using loops, making it easy to work with their elements one at a time.\n",
    "\n",
    "(4)Length:\n",
    "You can determine the length (the number of elements) of both lists and strings using the len() function."
   ]
  },
  {
   "cell_type": "code",
   "execution_count": null,
   "id": "012093e8",
   "metadata": {},
   "outputs": [],
   "source": [
    "Answer 13 )\n",
    "(1) Lists: Lists are mutable, meaning you can change their contents after they are created. You can add, remove, or modify \n",
    "elements within a list.\n",
    "(2) Lists: Lists are defined using square brackets [], and elements are separated by commas.\n",
    "        \n",
    "(1) Tuples: Tuples are immutable, which means you cannot change their contents once they are defined. Once you create a tuple, \n",
    "you cannot add, remove, or modify elements. To make changes, you must create a new tuple.\n",
    "(2) Tuples: Tuples are defined using parentheses (), and elements are also separated by commas. However, if a tuple contains a \n",
    "    single element, you need to include a trailing comma to distinguish it from a regular expression.\n",
    "    \n",
    "    here's example:\n",
    "    my_list = [1, 2, 3]       # This is a list.\n",
    "my_tuple = (1, 2, 3)     # This is a tuple.\n",
    "single_tuple = (42,)     # Tuple with a single element."
   ]
  }
 ],
 "metadata": {
  "kernelspec": {
   "display_name": "Python 3 (ipykernel)",
   "language": "python",
   "name": "python3"
  },
  "language_info": {
   "codemirror_mode": {
    "name": "ipython",
    "version": 3
   },
   "file_extension": ".py",
   "mimetype": "text/x-python",
   "name": "python",
   "nbconvert_exporter": "python",
   "pygments_lexer": "ipython3",
   "version": "3.10.9"
  }
 },
 "nbformat": 4,
 "nbformat_minor": 5
}
