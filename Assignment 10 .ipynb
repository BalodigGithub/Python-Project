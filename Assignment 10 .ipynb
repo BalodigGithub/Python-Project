{
 "cells": [
  {
   "cell_type": "code",
   "execution_count": null,
   "id": "c031879e",
   "metadata": {},
   "outputs": [],
   "source": [
    "Answer 1 :\n",
    "    \n",
    "1)shutil.copy():\n",
    "\n",
    "shutil.copy(src, dst) is used to copy a single file from the source location (specified by src) to the destination location \n",
    "(specified by dst).\n",
    "It's designed for copying individual files, not directories or their contents.\n",
    "If the destination is an existing file, it will be replaced by the source file. If the destination doesn't exist, a new file \n",
    "will be created with the source file's content.\n",
    "It's a good choice for duplicating single files.\n",
    "Example :\n",
    "    import shutil\n",
    "shutil.copy('source.txt', 'destination.txt')\n",
    "\n",
    "2)shutil.copytree():\n",
    "\n",
    "shutil.copytree(src, dst) is used to copy an entire directory tree from the source location (specified by src) to the\n",
    "destination location (specified by dst).\n",
    "It recursively copies not only the directory but all its subdirectories and files.\n",
    "It's useful when you want to duplicate an entire directory structure, making it a directory cloning operation.\n",
    "The destination directory should not exist, as it will be created by this operation. If it does exist, you will receive error.\n",
    "Example:\n",
    "    import shutil\n",
    "shutil.copytree('source_directory', 'destination_directory')"
   ]
  },
  {
   "cell_type": "code",
   "execution_count": null,
   "id": "70be26ae",
   "metadata": {},
   "outputs": [],
   "source": [
    "Answer 2 :\n",
    "    \n",
    "1) Linux/Unix Command Line:\n",
    "mv command: You can use the mv command to rename files in a Unix or Linux terminal. \n",
    "\n",
    "2)Windows Command Prompt:\n",
    "ren command: In the Windows Command Prompt, you can use the ren command to rename files.\n",
    "    \n",
    "3)Python:\n",
    "os.rename(): In Python, you can use the os.rename() function to rename files\n",
    "    \n",
    "4)C/C++:\n",
    "rename() function: In C and C++, you can use the rename() function from the <stdio.h> library to rename files. "
   ]
  },
  {
   "cell_type": "code",
   "execution_count": null,
   "id": "72c4b5a0",
   "metadata": {},
   "outputs": [],
   "source": [
    "Answer 3 :\n",
    "\n",
    "1)send2trash Module:\n",
    "send2trash is primarily used to move files or folders to the system's trash or recycle bin, allowing for easy recovery. It does\n",
    "not permanently delete the files but instead sends them to the system's trash or recycle bin, depending on the operating system.\n",
    "\n",
    "The main function for deleting files using send2trash is send2trash.send2trash(). This function moves the specified file to the\n",
    "trash or recycle bin. It is designed to be a safer option when you want to delete files as it provides a level of protection \n",
    "against accidental data loss.\n",
    "\n",
    "2)shutil Module:\n",
    "\n",
    "shutil is a module in Python for file operations, including file copying, moving, and deletion. When you use shutil to delete a \n",
    "file, it is permanently removed from the file system. There is no option for recovery, and the file is not moved to the trash\n",
    "or recycle bin.\n",
    "\n",
    "The primary function in shutil for deleting files is shutil.remove() (or os.remove() from the os module, which shutil may use\n",
    "internally). This function deletes the specified file without moving it to the trash or recycle bin."
   ]
  },
  {
   "cell_type": "code",
   "execution_count": null,
   "id": "7c807b9f",
   "metadata": {},
   "outputs": [],
   "source": [
    "Answer 4:\n",
    "\n",
    "import zipfile\n",
    "\n",
    "# Open a ZIP file for reading\n",
    "with zipfile.ZipFile('example.zip', 'r') as zip_file:\n",
    "    # Perform operations on the ZIP file\n",
    "\n",
    "# Open a new ZIP file for writing\n",
    "with zipfile.ZipFile('new_archive.zip', 'w') as zip_file:\n",
    "    # Perform operations like adding files to the ZIP archive"
   ]
  },
  {
   "cell_type": "code",
   "execution_count": null,
   "id": "dc33dba6",
   "metadata": {},
   "outputs": [],
   "source": [
    "Answer 5 :\n",
    "    \n",
    "import os\n",
    "\n",
    "def find_files_with_extension(folder, target_extension):\n",
    "    found_files = []\n",
    "\n",
    "    for root, dirs, files in os.walk(folder):\n",
    "        for file in files:\n",
    "            if file.endswith(target_extension):\n",
    "                found_files.append(os.path.join(root, file))\n",
    "\n",
    "    return found_files\n",
    "\n",
    "# Specify the folder to start the search\n",
    "search_folder = \"/path/to/your/folder\"\n",
    "\n",
    "# Specify the target file extension (e.g., '.pdf' or '.jpg')\n",
    "target_extension = '.pdf'\n",
    "\n",
    "# Search for files with the specified extension\n",
    "result = find_files_with_extension(search_folder, target_extension)\n",
    "\n",
    "# Print the list of found files\n",
    "for file_path in result:\n",
    "    print(file_path)"
   ]
  }
 ],
 "metadata": {
  "kernelspec": {
   "display_name": "Python 3 (ipykernel)",
   "language": "python",
   "name": "python3"
  },
  "language_info": {
   "codemirror_mode": {
    "name": "ipython",
    "version": 3
   },
   "file_extension": ".py",
   "mimetype": "text/x-python",
   "name": "python",
   "nbconvert_exporter": "python",
   "pygments_lexer": "ipython3",
   "version": "3.10.9"
  }
 },
 "nbformat": 4,
 "nbformat_minor": 5
}
