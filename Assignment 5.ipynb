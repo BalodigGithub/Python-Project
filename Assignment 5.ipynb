{
 "cells": [
  {
   "cell_type": "code",
   "execution_count": null,
   "id": "6237560e",
   "metadata": {},
   "outputs": [],
   "source": [
    "Answer 1 :\n",
    "\n",
    "An empty dictionary in Python is represented by curly braces {} with no key-value pairs inside it. Here's what the code for an \n",
    "empty dictionary looks like:\n",
    "empty_dict = {}\n",
    "This creates an empty dictionary named empty_dict, which you can then populate with key-value pairs as needed."
   ]
  },
  {
   "cell_type": "code",
   "execution_count": null,
   "id": "fc3bedff",
   "metadata": {},
   "outputs": [],
   "source": [
    "Answer 2 :\n",
    "    \n",
    "In Python, if you have a dictionary with the key \"foo\" and the value 42, it would look like this:\n",
    "my_dict = {\"foo\": 42}\n",
    "In this case, the value associated with the key \"foo\" is 42. So, if you want to access the value associated with the \"foo\" key,\n",
    "you can do so like this \n",
    "value = my_dict[\"foo\"]\n",
    "After executing this code, the value variable will contain the value 42."
   ]
  },
  {
   "cell_type": "code",
   "execution_count": null,
   "id": "143df65b",
   "metadata": {},
   "outputs": [],
   "source": [
    "Answer 3 :\n",
    "    \n",
    "1 ) Lists are ordered collections of items, and they store data sequentially. Each item in a list has a numerical index \n",
    "(starting from 0) that determines its position in the list.\n",
    "2 ) In a list, you access elements by their index. For example, my_list[0] would access the first element of the list\n",
    "\n",
    "1 ) Dictionaries are unordered collections of key-value pairs. Instead of numerical indices, they use keys to access and store\n",
    "values. Each key in a dictionary is unique, and it maps to a specific value.\n",
    "2 ) In a dictionary, you access values by their associated keys. For example, my_dict[\"key\"] would access the value associated\n",
    "with the key \"key.\""
   ]
  },
  {
   "cell_type": "code",
   "execution_count": null,
   "id": "0aa11bd8",
   "metadata": {},
   "outputs": [],
   "source": [
    "Answer 4 :\n",
    "    \n",
    "If you try to access spam['foo'] where spam is the dictionary {'bar': 100}, you will get a KeyError. This is because there is \n",
    "no key 'foo' in the dictionary, and attempting to access a non-existent key in a dictionary using square brackets will raise a \n",
    "KeyError in Python.\n",
    "spam = {'bar': 100}\n",
    "value = spam['foo']  # This line will raise a KeyError\n",
    "To avoid a KeyError, you should only try to access keys that exist in the dictionary or use methods like get() with a default\n",
    "value to handle the case when the key is not found:\n",
    "    value = spam.get('foo', 'Key not found')  # This will return 'Key not found'\n",
    "Using get() with a default value allows you to provide a fallback value when the key is not present in the dictionary."
   ]
  },
  {
   "cell_type": "code",
   "execution_count": null,
   "id": "08057a2b",
   "metadata": {},
   "outputs": [],
   "source": [
    "Answer 5 :\n",
    "    \n",
    "'cat' in spam:\n",
    "This expression checks if the key 'cat' exists in the dictionary spam.\n",
    "If 'cat' is a key in the dictionary, it returns True.\n",
    "If 'cat' is not a key in the dictionary, it returns False.\n",
    "\n",
    "'cat' in spam.keys():\n",
    "This expression first retrieves all the keys of the dictionary spam using the keys() method.\n",
    "Then, it checks if 'cat' is in the list of keys.\n",
    "If 'cat' is a key in the dictionary, it returns True.\n",
    "If 'cat' is not a key in the dictionary, it returns False."
   ]
  },
  {
   "cell_type": "code",
   "execution_count": null,
   "id": "32d7d9ef",
   "metadata": {},
   "outputs": [],
   "source": [
    "Answer 7 :\n",
    "    \n",
    "spam.setdefault('color', 'black')\n",
    "This line of code will check if the key 'color' exists in the spam dictionary. If it doesn't exist, it will set the key \n",
    "'color' to the default value 'black'. If the key 'color' already exists, it will not change its value. This is a concise way to\n",
    "achieve the same result as your original code."
   ]
  },
  {
   "cell_type": "code",
   "execution_count": 2,
   "id": "baabd7cc",
   "metadata": {},
   "outputs": [
    {
     "name": "stdout",
     "output_type": "stream",
     "text": [
      "{'address': {'city': 'Exampleville', 'street': '123 Main St', 'zip': '12345'},\n",
      " 'age': 30,\n",
      " 'name': 'John'}\n"
     ]
    }
   ],
   "source": [
    "   \n",
    "Answer 8 :\n",
    "    \n",
    "    import pprint\n",
    "\n",
    "my_dict = {\n",
    "    'name': 'John',\n",
    "    'age': 30,\n",
    "    'address': {\n",
    "        'street': '123 Main St',\n",
    "        'city': 'Exampleville',\n",
    "        'zip': '12345'\n",
    "    }\n",
    "}\n",
    "\n",
    "pprint.pprint(my_dict)"
   ]
  },
  {
   "cell_type": "code",
   "execution_count": null,
   "id": "13a8df73",
   "metadata": {},
   "outputs": [],
   "source": []
  }
 ],
 "metadata": {
  "kernelspec": {
   "display_name": "Python 3 (ipykernel)",
   "language": "python",
   "name": "python3"
  },
  "language_info": {
   "codemirror_mode": {
    "name": "ipython",
    "version": 3
   },
   "file_extension": ".py",
   "mimetype": "text/x-python",
   "name": "python",
   "nbconvert_exporter": "python",
   "pygments_lexer": "ipython3",
   "version": "3.10.9"
  }
 },
 "nbformat": 4,
 "nbformat_minor": 5
}
