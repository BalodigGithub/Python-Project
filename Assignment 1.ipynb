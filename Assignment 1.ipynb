{
 "cells": [
  {
   "cell_type": "code",
   "execution_count": null,
   "id": "0f3a402c",
   "metadata": {},
   "outputs": [],
   "source": [
    "Answer No 1 \n",
    "Characters = 'hello', -87.5 , 6\n",
    "values = * , + , - , \\"
   ]
  },
  {
   "cell_type": "code",
   "execution_count": null,
   "id": "8b8e4a46",
   "metadata": {},
   "outputs": [],
   "source": [
    "Answer No 2 \n",
    "String:\n",
    "A string is a data type used to represent a sequence of characters. \n",
    "Variable:\n",
    "A variable is a named storage location in a programs memory that holds a value. "
   ]
  },
  {
   "cell_type": "code",
   "execution_count": null,
   "id": "a9133c22",
   "metadata": {},
   "outputs": [],
   "source": [
    "Answer No 3 \n",
    "Integer (int):\n",
    "An integer is a data type used to represent whole numbers, both positive and negative, without any decimal points. \n",
    "Floating-Point (float):\n",
    "A floating-point number, often referred to as a \"float,\" is a data type used to represent real numbers with decimal points.\n",
    "String:\n",
    "As mentioned earlier, a string is a data type used to represent a sequence of characters. Strings are used to\n",
    "store and manipulate text-based data."
   ]
  },
  {
   "cell_type": "code",
   "execution_count": null,
   "id": "2c6b87fc",
   "metadata": {},
   "outputs": [],
   "source": [
    "Answer 4 \n",
    "Expression:\n",
    "An expression is a combination of values, variables, operators, and function calls that can be evaluated to produce \n",
    "a single value.\n",
    "Statement:\n",
    "A statement is a complete instruction that performs a specific action. It's a unit of code that carries out a particular\n",
    "operation, such as assigning a value to a variable, looping over a block of code, or making a decision. "
   ]
  },
  {
   "cell_type": "code",
   "execution_count": null,
   "id": "3245c76d",
   "metadata": {},
   "outputs": [],
   "source": [
    "Answer 5 :\n",
    "Expression:\n",
    "An expression is a combination of values (constants, variables), operators, and function calls that can be evaluated to \n",
    "produce a single value.\n",
    "Statement:\n",
    "A statement is a complete line of code that performs an action. Statements are the building blocks of \n",
    "a program and are executed sequentially."
   ]
  },
  {
   "cell_type": "code",
   "execution_count": 3,
   "id": "a4c3b23e",
   "metadata": {},
   "outputs": [
    {
     "data": {
      "text/plain": [
       "23"
      ]
     },
     "execution_count": 3,
     "metadata": {},
     "output_type": "execute_result"
    }
   ],
   "source": [
    "Answer 6 :\n",
    "bacon = 22\n",
    "bacon+1"
   ]
  },
  {
   "cell_type": "code",
   "execution_count": 2,
   "id": "d12befa8",
   "metadata": {},
   "outputs": [
    {
     "data": {
      "text/plain": [
       "'spamspamspam'"
      ]
     },
     "execution_count": 2,
     "metadata": {},
     "output_type": "execute_result"
    }
   ],
   "source": [
    "Answer 7 :\n",
    "'spam'+'spamspam'\n",
    "'spam'*3\n",
    "    "
   ]
  },
  {
   "cell_type": "code",
   "execution_count": null,
   "id": "d74bd05c",
   "metadata": {},
   "outputs": [],
   "source": [
    "Answer 8 :\n",
    " eggs: This is a valid variable name because it starts with a letter ('e') and is followed by letters\n",
    "        ('g', 'g', 's'). It doesn't contain any special characters or spaces, so it adheres to the rules.\n",
    "\n",
    "100: This is typically considered an invalid variable name in most programming languages because it starts with a \n",
    "    digit ('1').Variable names generally cannot start with a digit. They need to start with a letter or an underscore."
   ]
  },
  {
   "cell_type": "code",
   "execution_count": null,
   "id": "30ede641",
   "metadata": {},
   "outputs": [],
   "source": [
    "Answer 9:\n",
    "    int(): This function is used to convert a value to an integer.\n",
    "    float(): This function is used to convert a value to a floating-point number (a number with a decimal point).\n",
    "    str(): This function is used to convert a value to a string."
   ]
  },
  {
   "cell_type": "code",
   "execution_count": null,
   "id": "994a7778",
   "metadata": {},
   "outputs": [],
   "source": [
    "Answer 10 :\n",
    "  Yes, that's correct. The str() function in Python is used to convert a value to its string representation. It takes a value \n",
    "of any data type (integer, float, boolean, etc.) and returns a string that represents that value.\n",
    "the str() function is commonly used when you want to concatenate a non-string value with other strings or when you \n",
    "want to display or manipulate a value as a string, such as when printing it\n",
    "or writing it to a file."
   ]
  }
 ],
 "metadata": {
  "kernelspec": {
   "display_name": "Python 3 (ipykernel)",
   "language": "python",
   "name": "python3"
  },
  "language_info": {
   "codemirror_mode": {
    "name": "ipython",
    "version": 3
   },
   "file_extension": ".py",
   "mimetype": "text/x-python",
   "name": "python",
   "nbconvert_exporter": "python",
   "pygments_lexer": "ipython3",
   "version": "3.10.9"
  }
 },
 "nbformat": 4,
 "nbformat_minor": 5
}
