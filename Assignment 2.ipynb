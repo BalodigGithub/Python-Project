{
 "cells": [
  {
   "cell_type": "code",
   "execution_count": null,
   "id": "02d325bb",
   "metadata": {},
   "outputs": [],
   "source": [
    "Answer 1 :\n",
    "The Boolean data type has two values:\n",
    "True: Represents a true or affirmative condition.\n",
    "False: Represents a false or negative condition.\n",
    "In Python, these values are written as True and False (note the capitalization), and they are keywords in the language."
   ]
  },
  {
   "cell_type": "code",
   "execution_count": null,
   "id": "94d84f51",
   "metadata": {},
   "outputs": [],
   "source": [
    "Answer 2 :\n",
    "There are three primary Boolean operators:\n",
    "AND (and):\n",
    "The AND operator returns True if both operands are True. Otherwise, it returns False.\n",
    "In Python, it is represented by the and keyword.\n",
    "OR (or):\n",
    "The OR operator returns True if at least one of the operands is True. It returns False only if both operands are False.\n",
    "NOT (not):\n",
    "The NOT operator is a unary operator that negates the value of its operand. If the operand is True, NOT returns False, and \n",
    "if the operand is False, NOT returns True."
   ]
  },
  {
   "cell_type": "code",
   "execution_count": null,
   "id": "18bec45a",
   "metadata": {},
   "outputs": [],
   "source": [
    "Answer 3 :\n",
    "AND Truth Table:\n",
    "Operand 1\tOperand 2\tResult\n",
    "T\tT\tT\n",
    "T\tF\tF\n",
    "F\tT\tF\n",
    "F\tF\tF\n",
    "OR Truth Table:\n",
    "Operand 1\tOperand 2\tResult\n",
    "T\tT\tT\n",
    "T\tF\tT\n",
    "F\tT\tT\n",
    "F\tF\tF\n",
    "NOT Truth Table:\n",
    "Operand\tResult\n",
    "T\tF\n",
    "F\tT"
   ]
  },
  {
   "cell_type": "code",
   "execution_count": null,
   "id": "bc49ffaa",
   "metadata": {},
   "outputs": [],
   "source": [
    "Answer 5 :\n",
    "There are six comparison operators in programming used to compare values and determine relationships between them.\n",
    "Equal to (==): Compares if two values are equal.\n",
    "\n",
    "Example: 5 == 5 evaluates to True.\n",
    "Not equal to (!=): Compares if two values are not equal.\n",
    "\n",
    "Example: 5 != 10 evaluates to True.\n",
    "Greater than (>): Compares if one value is greater than another.\n",
    "\n",
    "Example: 10 > 5 evaluates to True.\n",
    "Less than (<): Compares if one value is less than another.\n",
    "\n",
    "Example: 5 < 10 evaluates to True.\n",
    "Greater than or equal to (>=): Compares if one value is greater than or equal to another.\n",
    "\n",
    "Example: 10 >= 10 evaluates to True\n",
    "\n",
    "Less than or equal to (<=): Compares if one value\n"
   ]
  },
  {
   "cell_type": "code",
   "execution_count": null,
   "id": "d01b7e72",
   "metadata": {},
   "outputs": [],
   "source": [
    "Answer 6 :\n",
    "The equal to and assignment operators are fundamental operators in programming languages like C++, Java,  Python,and many\n",
    "others.\n",
    ": Like C, Python uses == for equality comparisons and = for assignments. Unlike C, Python doesn't allow you to accidentall \n",
    " use the assignment operator ( = ) in an equality comparison. Equality is a symmetrical relationship, and assignment\n",
    " is not. For example, the expression a == 42 is equivalent to 42 == a "
   ]
  },
  {
   "cell_type": "code",
   "execution_count": null,
   "id": "2bb9ffc5",
   "metadata": {},
   "outputs": [],
   "source": [
    "Answer 9 :\n",
    "An infinite loop is a loop that runs indefinitely and it only stops with external intervention or when a break statement is \n",
    "found. You can stop an infinite loop with CTRL + C "
   ]
  },
  {
   "cell_type": "code",
   "execution_count": null,
   "id": "0915a790",
   "metadata": {},
   "outputs": [],
   "source": [
    "Answer 10 :\n",
    "Break statement stops the entire process of the loop. Continue statement only stops the current iteration of the loop. Break \n",
    "also terminates the remaining iterations. Continue doesn't terminate the next iterationsit resumes with the successive \n",
    "iterations .\n",
    "    "
   ]
  },
  {
   "cell_type": "code",
   "execution_count": null,
   "id": "b3e8cdf4",
   "metadata": {},
   "outputs": [],
   "source": [
    "Answer 11 :\n",
    "range(10): This expression creates a range starting from 0 (the default start value) and ending at 10 (exclusive). In other\n",
    "words,it generates numbers from 0 to 9. It is equivalent to range(0, 10).\n",
    "\n",
    "range(0, 10): This explicitly specifies both the start and stop values of the range. It creates a range starting from 0 \n",
    "(inclusive) and ending at 10 (exclusive), generating numbers from 0 to 9.\n",
    "\n",
    "range(0, 10, 1): This expression explicitly specifies the start, stop, and step values for the range. It creates a range\n",
    "starting from 0 (inclusive), ending at 10 (exclusive), and with a step of 1. Since a step of 1 is thedefault, you can \n",
    "omit it, and it will be the same as range(0, 10)."
   ]
  }
 ],
 "metadata": {
  "kernelspec": {
   "display_name": "Python 3 (ipykernel)",
   "language": "python",
   "name": "python3"
  },
  "language_info": {
   "codemirror_mode": {
    "name": "ipython",
    "version": 3
   },
   "file_extension": ".py",
   "mimetype": "text/x-python",
   "name": "python",
   "nbconvert_exporter": "python",
   "pygments_lexer": "ipython3",
   "version": "3.10.9"
  }
 },
 "nbformat": 4,
 "nbformat_minor": 5
}
