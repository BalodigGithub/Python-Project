{
 "cells": [
  {
   "cell_type": "code",
   "execution_count": null,
   "id": "6605b13e",
   "metadata": {},
   "outputs": [],
   "source": [
    "Answer 1 :\n",
    "    \n",
    "No, the Python Standard Library is not included with PyInputPlus. PyInputPlus is a separate third-party library for input \n",
    "validation in Python. It provides a set of functions and decorators to help you handle user input in a more controlled and \n",
    "user-friendly manner.\n",
    "The Python Standard Library, on the other hand, is a collection of modules and packages that come with Python itself. It \n",
    "includes many built-in modules for various tasks like file I/O, regular expressions, data structures, and more. These modules\n",
    "are part of Python's core and are available without the need for any additional installation."
   ]
  },
  {
   "cell_type": "code",
   "execution_count": null,
   "id": "b5e5cdf1",
   "metadata": {},
   "outputs": [],
   "source": [
    "Answer 2 :\n",
    "    \n",
    "Importing PyInputPlus with the alias pypi is a common practice in code examples and tutorials for several reasons:\n",
    "\n",
    "Conciseness: PyInputPlus is a relatively long module name, and using an alias like pypi makes it shorter and more concise when\n",
    "referencing the module in your code. This can make your code easier to read and type.\n",
    "Avoiding Confusion: Python's Standard Library has a module called input that provides a way to accept user input. By using an \n",
    "alias like pypi, you reduce the chances of naming conflicts or confusion between the input function from the Standard Library \n",
    "and PyInputPlus.\n",
    "Consistency: Using a common alias like pypi in code examples and tutorials makes it easier for readers to follow along with the\n",
    "material. It establishes a convention that readers can recognize and apply in their own code.\n",
    "import pyinputplus as pypi\n",
    "\n",
    "user_input = pypi.inputInt(\"Enter an integer: \")\n",
    "print(\"You entered:\", user_input)"
   ]
  },
  {
   "cell_type": "code",
   "execution_count": null,
   "id": "3909862d",
   "metadata": {},
   "outputs": [],
   "source": [
    "Answer 3 :\n",
    "    \n",
    "inputInt(): This function is used to accept and validate integer input. It will continue to prompt the user until they enter a\n",
    "valid integer. If the user enters a non-integer value or a number with a decimal point, it will raise a pyinputplus.\n",
    "RetryLimitException by default.\n",
    "import pyinputplus as pyip\n",
    "\n",
    "example :\n",
    "user_input = pyip.inputInt(\"Enter an integer: \")\n",
    "print(\"You entered:\", user_input)\n",
    "\n",
    "inputFloat(): This function is used to accept and validate floating-point (decimal) input. It will continue to prompt the user\n",
    "until they enter a valid floating-point number. If the user enters a non-numeric value, it will raise a pyinputplus.\n",
    "RetryLimitException by default.\n",
    "\n",
    "Example:\n",
    "import pyinputplus as pyip\n",
    "\n",
    "user_input = pyip.inputFloat(\"Enter a floating-point number: \")\n",
    "print(\"You entered:\", user_input)\n"
   ]
  },
  {
   "cell_type": "code",
   "execution_count": null,
   "id": "bfa604b0",
   "metadata": {},
   "outputs": [],
   "source": [
    "Answer 4 :\n",
    "    \n",
    "import pyinputplus as pyip\n",
    "\n",
    "def is_valid_number(value):\n",
    "    return 0 <= value <= 99\n",
    "\n",
    "user_input = pyip.inputInt(prompt=\"Enter a whole number between 0 and 99: \", \n",
    "                          min=0, max=99, \n",
    "                          allowRegexes=[r'^\\d{1,2}$'], \n",
    "                          blockRegexes=[r'^[4-9][0-9]$'],\n",
    "                          limit=3, \n",
    "                          default=None, \n",
    "                          applyFunc=is_valid_number)\n",
    "\n",
    "print(\"You entered:\", user_input)"
   ]
  },
  {
   "cell_type": "code",
   "execution_count": null,
   "id": "7aed2733",
   "metadata": {},
   "outputs": [],
   "source": [
    "Answer 5 :\n",
    "\n",
    "Here's what is transferred to these keyword arguments:\n",
    "\n",
    "1 ) allowRegexes: This keyword argument takes a list of regular expression patterns. These patterns specify which input values \n",
    "are allowed. If the user's input matches any of the regular expressions in the allowRegexes list, it is considered valid.\n",
    "2 ) blockRegexes: This keyword argument also takes a list of regular expression patterns. These patterns specify which input \n",
    "values should be blocked or disallowed. If the user's input matches any of the regular expressions in the blockRegexes list, it\n",
    "is considered invalid.\n",
    "\n",
    "These regular expressions give you fine-grained control over input validation, allowing you to define custom rules for what is \n",
    "considered acceptable or unacceptable input. PyInputPlus uses these regular expressions to validate user input and enforce your \n",
    "specified criteria.\n"
   ]
  },
  {
   "cell_type": "code",
   "execution_count": null,
   "id": "c7436cd9",
   "metadata": {},
   "outputs": [],
   "source": [
    "Answer 6 :\n",
    "    \n",
    "If a blank input (an empty string or whitespace-only input) is entered three times in a row when using inputStr(limit=3),\n",
    "PyInput Plus will raise a pyinputplus.RetryLimitException. This exception is raised when the user exceeds the specified limit \n",
    "of retries without providing valid input. \n",
    "import pyinputplus as pyip\n",
    "\n",
    "try:\n",
    "    user_input = pyip.inputStr(prompt=\"Enter something: \", limit=3)\n",
    "    print(\"You entered:\", user_input)\n",
    "except pyip.RetryLimitException:\n",
    "    print(\"You exceeded the retry limit.\")"
   ]
  },
  {
   "cell_type": "code",
   "execution_count": null,
   "id": "9f6102e8",
   "metadata": {},
   "outputs": [],
   "source": [
    "Answer 7 :\n",
    "    \n",
    "If blank input (an empty string or whitespace-only input) is entered three times in a row when using inputStr\n",
    "(limit=3,default='hello'), PyInputPlus will not raise an exception. Instead, it will return the default value 'hello' after the\n",
    "third attempt.\n",
    "import pyinputplus as pyip\n",
    "\n",
    "user_input = pyip.inputStr(prompt=\"Enter something: \", limit=3, default='hello')\n",
    "print(\"You entered:\", user_input)\n",
    "\n",
    "In this code, inputStr() with limit=3 and default='hello' allows the user to make up to three attempts to enter valid input. If\n",
    "the user enters a blank input three times in a row, PyInputPlus will return the default value 'hello' without raising an \n",
    "exception. Therefore, the program will print \"You entered: hello\" after the third attempt.\n",
    "The default parameter is used to specify the value that should be returned if the user exceeds the retry limit without providing\n",
    "valid input. In this case, 'hello' is the default value, and it is returned after the third failed attempt."
   ]
  }
 ],
 "metadata": {
  "kernelspec": {
   "display_name": "Python 3 (ipykernel)",
   "language": "python",
   "name": "python3"
  },
  "language_info": {
   "codemirror_mode": {
    "name": "ipython",
    "version": 3
   },
   "file_extension": ".py",
   "mimetype": "text/x-python",
   "name": "python",
   "nbconvert_exporter": "python",
   "pygments_lexer": "ipython3",
   "version": "3.10.9"
  }
 },
 "nbformat": 4,
 "nbformat_minor": 5
}
