{
 "cells": [
  {
   "cell_type": "code",
   "execution_count": null,
   "id": "a615b8cd",
   "metadata": {},
   "outputs": [],
   "source": [
    "Answer 1 :\n",
    "    \n",
    "the feature responsible for generating regular expression objects is the re module. The re module provides functions\n",
    "and methods for working with regular expressions, including creating and using Regex objects. You can use functions like\n",
    "re.compile() to compile a regular expression pattern into a Regex object, which you can then use for matching and searching \n",
    "strings."
   ]
  },
  {
   "cell_type": "code",
   "execution_count": null,
   "id": "c2c2e7c1",
   "metadata": {},
   "outputs": [],
   "source": [
    "Answer 2 :\n",
    "\n",
    "Raw strings are often used when working with regular expressions (Regex) in Python because they help prevent unintended escape \n",
    "character interpretation.\n",
    "# Without using a raw string (without 'r' prefix)\n",
    "pattern = \"\\d\"\n",
    "text = \"123\"\n",
    "match = re.search(pattern, text)\n",
    "print(match.group())  # This will not match because \"\\d\" is interpreted as an escape sequence.\n",
    "\n",
    "# Using a raw string (with 'r' prefix)\n",
    "pattern = r\"\\d\"\n",
    "text = \"123\"\n",
    "match = re.search(pattern, text)\n",
    "print(match.group())  # This will match the digit '3'."
   ]
  },
  {
   "cell_type": "code",
   "execution_count": null,
   "id": "f9f02891",
   "metadata": {},
   "outputs": [],
   "source": [
    "Answer 3 :\n",
    "    \n",
    "The search() method in Python's re module returns a match object if it finds a match for the regular expression pattern in the \n",
    "given text, and it returns None if no match is found.\n",
    "import re\n",
    "\n",
    "text = \"Hello, World!\"\n",
    "pattern = r\"World\"\n",
    "\n",
    "# Using search() to find a match\n",
    "match = re.search(pattern, text)\n",
    "\n",
    "if match:\n",
    "    print(\"Match found:\", match.group())  # Access the matched string\n",
    "else:\n",
    "    print(\"No match found\")"
   ]
  },
  {
   "cell_type": "code",
   "execution_count": null,
   "id": "184a5f58",
   "metadata": {},
   "outputs": [],
   "source": [
    "Answer 4 :\n",
    "\n",
    "import re\n",
    "\n",
    "text = \"Hello, World!\"\n",
    "pattern = r\"Hello, (\\w+)\"\n",
    "\n",
    "# Using search() to find a match\n",
    "match = re.search(pattern, text)\n",
    "\n",
    "if match:\n",
    "    # Access the entire matched string\n",
    "    entire_match = match.group(0)\n",
    "    print(\"Entire match:\", entire_match)\n",
    "\n",
    "    # Access content of capturing group (group 1 in this case)\n",
    "    capturing_group_1 = match.group(1)\n",
    "    print(\"Capturing group 1:\", capturing_group_1)\n",
    "else:\n",
    "    print(\"No match found\")"
   ]
  },
  {
   "cell_type": "code",
   "execution_count": null,
   "id": "36dd35f2",
   "metadata": {},
   "outputs": [],
   "source": [
    "Answer 5 :\n",
    "\n"
   ]
  }
 ],
 "metadata": {
  "kernelspec": {
   "display_name": "Python 3 (ipykernel)",
   "language": "python",
   "name": "python3"
  },
  "language_info": {
   "codemirror_mode": {
    "name": "ipython",
    "version": 3
   },
   "file_extension": ".py",
   "mimetype": "text/x-python",
   "name": "python",
   "nbconvert_exporter": "python",
   "pygments_lexer": "ipython3",
   "version": "3.10.9"
  }
 },
 "nbformat": 4,
 "nbformat_minor": 5
}
