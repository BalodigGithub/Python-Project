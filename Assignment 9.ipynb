{
 "cells": [
  {
   "cell_type": "code",
   "execution_count": null,
   "id": "b041709f",
   "metadata": {},
   "outputs": [],
   "source": [
    "Answer 1 :\n",
    "    \n",
    "A relative path refers to the location of a file or directory in relation to a current working directory or another reference \n",
    "point. It specifies the path to a file or directory based on its position relative to some other location within the file\n",
    "system. Relative paths are typically shorter and more concise than absolute paths, which specify the complete path from the root\n",
    "directory.    "
   ]
  },
  {
   "cell_type": "code",
   "execution_count": null,
   "id": "5ed17f2c",
   "metadata": {},
   "outputs": [],
   "source": [
    "Answer 2 :\n",
    "    \n",
    "An absolute path in a file system typically starts with a reference to the root directory of the operating system. The root\n",
    "directory is the highest-level directory in the directory hierarchy and is represented differently depending on the operating \n",
    "system:\n",
    "1) Windows: In Windows operating systems, an absolute path typically starts with a drive letter followed by a colon\n",
    "(e.g., \"C:\") for local drives. After the drive letter, you use a backslash \"\" to indicate directory levels.\n",
    "2)Unix-like Systems (Linux, macOS): In Unix-like operating systems, including Linux and macOS, an absolute path starts with a \n",
    "forward slash \"/\".\n"
   ]
  },
  {
   "cell_type": "code",
   "execution_count": null,
   "id": "7ad7be43",
   "metadata": {},
   "outputs": [],
   "source": [
    "Answer 3:\n",
    "\n",
    "1) os.getcwd(): This function stands for \"get current working directory.\" It returns a string representing the current working \n",
    "directory of the Python process, which is the directory where the Python script is currently executing or where the Python \n",
    "interpreter is running.\n",
    "2) os.chdir(path): This function stands for \"change directory.\" It allows you to change the current working directory of the \n",
    "Python process to the specified path. You provide a string containing the path to the directory you want to change to."
   ]
  },
  {
   "cell_type": "code",
   "execution_count": null,
   "id": "8d0fe311",
   "metadata": {},
   "outputs": [],
   "source": [
    "Answer 4 :\n",
    "    \n",
    "1) (dot):\n",
    "The . folder represents the current directory. It is a reference to the directory in which it is located. When you access or \n",
    "list the contents of . in a terminal or file explorer, you are essentially looking at the files and subdirectories of the\n",
    "directory you are currently in.\n",
    "\n",
    "2) (dot-dot):\n",
    "The .. folder represents the parent directory of the current directory. It allows you to navigate up one level in the directory\n",
    "hierarchy. When you access or list the contents of .., you are looking at the files and subdirectories of the directory that \n",
    "contains the current directory.\n",
    "\n"
   ]
  },
  {
   "cell_type": "code",
   "execution_count": null,
   "id": "feeccd15",
   "metadata": {},
   "outputs": [],
   "source": [
    "Answer 5 :\n",
    "    \n",
    "In the file path \"C:\\bacon\\eggs\\spam.txt,\" the directory name and the base name are as follows:\n",
    "\n",
    "Directory Name: C:\\bacon\\eggs\n",
    "Base Name: spam.txt\n",
    "The directory name represents the path to the directory where the file \"spam.txt\" is located, and the base name is the actual \n",
    "name of the file itself, including its extension."
   ]
  },
  {
   "cell_type": "code",
   "execution_count": null,
   "id": "0685efe8",
   "metadata": {},
   "outputs": [],
   "source": [
    "Answer 6 :\n",
    "    \n",
    "1 ) 'r' (Read Mode): This mode is used for reading files. It opens the file for reading, and if the file does not exist, it \n",
    "raises a FileNotFoundError.\n",
    "Example :\n",
    "    with open('example.txt', 'r') as file:\n",
    "    content = file.read()\n",
    "    \n",
    "2) 'w' (Write Mode): This mode is used for writing to files. If the file already exists, it will be truncated (i.e., its \n",
    "contents will be deleted), and a new empty file is created. If the file doesn't exist, a new file is created.\n",
    "Example:\n",
    "    with open('example.txt', 'w') as file:\n",
    "    file.write('This is a sample text.')\n",
    "    \n",
    "3)'a' (Append Mode): This mode is used for appending data to a file. If the file exists, it will not be truncated, and data is\n",
    "written at the end of the file. If the file doesn't exist, a new file is created.\n",
    "Example:\n",
    "    with open('example.txt', 'a') as file:\n",
    "    file.write('This text is appended to the file.')"
   ]
  },
  {
   "cell_type": "code",
   "execution_count": null,
   "id": "5099c53a",
   "metadata": {},
   "outputs": [],
   "source": [
    "Answer 7 :\n",
    "    \n",
    "\n",
    "If an existing file is opened in write mode ('w'), the following things typically happen:\n",
    "\n",
    "1) File Truncation: If the file already exists, opening it in write mode will first truncate (erase) the existing content of \n",
    "the file. This means that all the data in the file will be deleted, and the file will become empty.\n",
    "\n",
    "2) New File Creation: If the file does not exist at the specified location, a new empty file with the given name will be created\n",
    "\n",
    "3) Write Access: You can write data to the file after it has been opened in write mode. Any data written to the file will \n",
    "overwrite the existing content, starting from the beginning of the file.\n",
    "\n"
   ]
  },
  {
   "cell_type": "code",
   "execution_count": null,
   "id": "3db40bd5",
   "metadata": {},
   "outputs": [],
   "source": [
    "Answer 8 :\n",
    "    import shelve\n",
    "\n",
    "# Open a shelf file (creates or opens if it exists)\n",
    "with shelve.open('mydata') as shelf:\n",
    "    # Store data\n",
    "    shelf['name'] = 'John'\n",
    "    shelf['age'] = 30\n",
    "\n",
    "# Reopen the shelf and retrieve data\n",
    "with shelve.open('mydata') as shelf:\n",
    "    print(shelf['name'])  # Outputs: John\n",
    "    print(shelf['age'])   # Outputs: 30"
   ]
  }
 ],
 "metadata": {
  "kernelspec": {
   "display_name": "Python 3 (ipykernel)",
   "language": "python",
   "name": "python3"
  },
  "language_info": {
   "codemirror_mode": {
    "name": "ipython",
    "version": 3
   },
   "file_extension": ".py",
   "mimetype": "text/x-python",
   "name": "python",
   "nbconvert_exporter": "python",
   "pygments_lexer": "ipython3",
   "version": "3.10.9"
  }
 },
 "nbformat": 4,
 "nbformat_minor": 5
}
