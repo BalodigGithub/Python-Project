{
 "cells": [
  {
   "cell_type": "code",
   "execution_count": null,
   "id": "35d24373",
   "metadata": {},
   "outputs": [],
   "source": [
    "Answer 1 :\n",
    "    \n",
    "assert spam >= 0, \"spam should not be a negative integer\"\n",
    "In the above code:\n",
    "\n",
    "1) spam is the variable you want to check.\n",
    "2)spam >= 0 is the condition that should be True for the assertion not to raise an error. It checks if spam is greater than or\n",
    "equal to zero.\n",
    "3)If the condition is False, the assert statement raises an AssertionError with the message \"spam should not be a negative \n",
    "integer.\""
   ]
  },
  {
   "cell_type": "code",
   "execution_count": null,
   "id": "06d9dff3",
   "metadata": {},
   "outputs": [],
   "source": [
    "Answer 3 :\n",
    "\n",
    "assert False, \"This assertion always raises an AssertionError\"\n",
    "In this code:\n",
    "\n",
    "1 )False is the condition that is always False.\n",
    "2 )The string message after the comma is an optional custom message that will be included in the AssertionError when it is \n",
    "raised.\n",
    "It can provide additional information about the error.\n"
   ]
  },
  {
   "cell_type": "code",
   "execution_count": null,
   "id": "50736f1a",
   "metadata": {},
   "outputs": [],
   "source": [
    "Answer 4 :\n",
    "    \n",
    "import logging\n",
    "logging.basicConfig(level=logging.DEBUG)\n",
    "\n",
    "1)import logging: This line imports the Python logging module, which provides the logging functions and capabilities.\n",
    "\n",
    "2)logging.basicConfig(level=logging.DEBUG): This line configures the logging system and sets the logging level to DEBUG. You \n",
    "can adjust the logging level to control which log messages are captured and displayed. In this case, DEBUG level logs all \n",
    "messages, but you can change it to a different level like INFO, WARNING, ERROR, or CRITICAL depending on the desired verbosity \n",
    "of your logs."
   ]
  },
  {
   "cell_type": "code",
   "execution_count": null,
   "id": "c39035b7",
   "metadata": {},
   "outputs": [],
   "source": [
    "Answer 5 :\n",
    "    \n",
    "import logging\n",
    "\n",
    "logging.basicConfig(filename='programLog.txt', level=logging.DEBUG)\n",
    "\n",
    "1)import logging: This line imports the Python logging module, which provides the logging functions and capabilities.\n",
    "2)logging.basicConfig(filename='programLog.txt', level=logging.DEBUG): This line configures the logging system to send log \n",
    "messages to the file \"programLog.txt\" and sets the log level to DEBUG. The filename parameter specifies the name of the log \n",
    "file where the log messages will be stored, and level sets the logging level to DEBUG.\n"
   ]
  },
  {
   "cell_type": "code",
   "execution_count": null,
   "id": "1f367c04",
   "metadata": {},
   "outputs": [],
   "source": [
    "Answer 6 :\n",
    "    \n",
    "\n",
    "The Python logging module defines five standard levels of logging that can be used to categorize log messages by their severity,\n",
    "in increasing order of severity:\n",
    "\n",
    "DEBUG: This is the lowest level of severity and is typically used for detailed diagnostic information. Debug messages are often\n",
    "used during development and debugging but are usually not displayed in production environments.\n",
    "\n",
    "INFO: This level is used for general information and is typically used to confirm that things are working as expected. Info \n",
    "messages provide a high-level overview of the application's operation.\n",
    "\n",
    "WARNING: Warnings indicate that something unexpected or unusual has happened, but the program can continue running. They are\n",
    "used to highlight potential issues or areas that require attention.\n",
    "\n",
    "ERROR: Error messages indicate that a more severe issue has occurred, which may prevent the program from performing certain \n",
    "operations as intended. Errors typically need investigation and may require intervention to resolve.\n",
    "\n",
    "CRITICAL: This is the highest level of severity and is used to indicate that a critical error has occurred, which may lead to \n",
    "a program crash or severe data loss. Critical messages often require immediate attention and might trigger alert mechanisms in \n",
    "a production environment."
   ]
  },
  {
   "cell_type": "code",
   "execution_count": null,
   "id": "62d30e5e",
   "metadata": {},
   "outputs": [],
   "source": [
    "Answer 7 :\n",
    "    \n",
    "import logging\n",
    "logging.disable(logging.CRITICAL)\n",
    "\n",
    "In the code above, logging.CRITICAL is the highest logging level, and setting it as the logging level effectively disables all\n",
    "log messages, including DEBUG, INFO, WARNING, and ERROR. This means that no log messages will be generated or displayed."
   ]
  },
  {
   "cell_type": "code",
   "execution_count": null,
   "id": "2e4d1e46",
   "metadata": {},
   "outputs": [],
   "source": [
    "Answer 8 :\n",
    "    \n",
    "\n",
    "Using logging messages is generally better than using print() for several reasons:\n",
    "\n",
    "1)Configurability: The logging module allows you to configure logging behavior, including setting log levels, specifying log \n",
    "destinations (e.g., files, consoles, network services), and defining log message formatting. This configurability provides more \n",
    "control over how and where log messages are displayed or stored.\n",
    "\n",
    "2)Log Levels: Logging supports different log levels (e.g., DEBUG, INFO, WARNING, ERROR, CRITICAL), allowing you to categorize \n",
    "messages by their severity. With print(), you have to manually implement your own message filtering based on severity, while \n",
    "logging provides built-in support for this.\n",
    "\n",
    "3)Centralized Logging: Logging messages are typically centralized, making it easier to manage and analyze logs in one place. \n",
    "With print(), messages are scattered throughout the code, making it harder to monitor and troubleshoot issues.\n",
    "\n",
    "4)Output Redirection: With logging, you can easily redirect log messages to various outputs (e.g., files, the console, remote\n",
    "servers) and control where the logs are stored. This is more challenging with print().\n",
    "\n"
   ]
  },
  {
   "cell_type": "code",
   "execution_count": null,
   "id": "59320237",
   "metadata": {},
   "outputs": [],
   "source": [
    "Answer 9 :\n",
    "    \n",
    "The \"Step Over,\" \"Step In,\" and \"Step Out\" buttons are commonly found in debugger tools and are used for debugging code during \n",
    "program execution. These buttons allow developers to navigate through code and inspect its behavior. Here are the key \n",
    "differences between these debugger commands:\n",
    "   \n",
    "1)Step Over:\n",
    "Functionality: \"Step Over\" allows you to execute the current line of code and then move to the next line in the current function\n",
    "If the next line of code is a function call, it will execute that function entirely and return to the line after the function\n",
    "call. It's useful for quickly moving through code without diving into function calls.\n",
    "Use Case: Use \"Step Over\" when you want to execute the current line and any function calls it contains but don't want to dive \n",
    "into the implementation of those functions.\n",
    "\n",
    "2)Step In:\n",
    "Functionality: \"Step In\" allows you to enter the function being called on the current line. If the current line contains a \n",
    "function call, \"Step In\" will take you to the first line of that function, allowing you to debug the function's implementation.\n",
    "Use Case: Use \"Step In\" when you want to delve into the details of a function's implementation and debug it line by line."
   ]
  },
  {
   "cell_type": "code",
   "execution_count": null,
   "id": "a9ff8a80",
   "metadata": {},
   "outputs": [],
   "source": [
    "Answer 10 :\n",
    "    \n",
    "\n",
    "When you click \"Continue\" in a debugger, it will continue the execution of your program without interruption until one of the\n",
    "following conditions is met:\n",
    "\n",
    "1) A breakpoint is encountered: If there are breakpoints set in your code, the debugger will stop when it reaches a line of\n",
    "code with a breakpoint.\n",
    "\n",
    "2) An exception or error occurs: If an unhandled exception or error occurs during program execution, the debugger will stop at\n",
    "the point where the exception is raised. This allows you to inspect the error and perform debugging actions.\n",
    "\n",
    "3) The program exits: If your program completes its execution, the debugger will stop when it reaches the end of the program.\n",
    "\n",
    "4) You manually pause or stop the debugger: You can manually pause or stop the debugger by clicking the \"Pause\" or \"Stop\" \n",
    "button in the debugger interface. This allows you to regain control over the debugging process."
   ]
  }
 ],
 "metadata": {
  "kernelspec": {
   "display_name": "Python 3 (ipykernel)",
   "language": "python",
   "name": "python3"
  },
  "language_info": {
   "codemirror_mode": {
    "name": "ipython",
    "version": 3
   },
   "file_extension": ".py",
   "mimetype": "text/x-python",
   "name": "python",
   "nbconvert_exporter": "python",
   "pygments_lexer": "ipython3",
   "version": "3.10.9"
  }
 },
 "nbformat": 4,
 "nbformat_minor": 5
}
